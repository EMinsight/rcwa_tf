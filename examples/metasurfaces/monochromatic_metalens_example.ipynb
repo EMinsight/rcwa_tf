{
  "nbformat": 4,
  "nbformat_minor": 0,
  "metadata": {
    "colab": {
      "name": "monochromatic_metalens_example.ipynb",
      "provenance": [],
      "collapsed_sections": []
    },
    "kernelspec": {
      "name": "python3",
      "display_name": "Python 3"
    },
    "accelerator": "GPU"
  },
  "cells": [
    {
      "cell_type": "markdown",
      "metadata": {
        "id": "liutV-O4UzMM"
      },
      "source": [
        "**Imports**"
      ]
    },
    {
      "cell_type": "code",
      "metadata": {
        "id": "QOCg73BSUzSx"
      },
      "source": [
        "import tensorflow as tf\n",
        "import numpy as np\n",
        "import rcwa_utils\n",
        "import tensor_utils\n",
        "import solver\n",
        "import matplotlib.pyplot as plt"
      ],
      "execution_count": 1,
      "outputs": []
    },
    {
      "cell_type": "markdown",
      "metadata": {
        "id": "E3JWQHQ4UzaV"
      },
      "source": [
        "**Loss Function Definition**"
      ]
    },
    {
      "cell_type": "code",
      "metadata": {
        "id": "ZWkgQTE9Uzgx"
      },
      "source": [
        "def focal_spot():\n",
        "\n",
        "  # Global parameters dictionary.\n",
        "  global params\n",
        "\n",
        "  # Generate permittivity and permeability distributions.\n",
        "  ER_t, UR_t = solver.generate_coupled_cylindrical_resonators(r_x_var, r_y_var, params)\n",
        "\n",
        "  # Simulate the system.\n",
        "  outputs = solver.simulate(ER_t, UR_t, params)\n",
        "  field = outputs['ty'][:, :, :, np.prod(params['PQ']) // 2, 0]\n",
        "  focal_plane = solver.propagate(params['input'] * field, params['propagator'], params['upsample'])\n",
        "  index = (params['pixelsX'] * params['upsample']) // 2\n",
        "  f1 = tf.abs(focal_plane[0, index, index])\n",
        "\n",
        "  # Maximize the electric field magnitude at the desired focal spot.\n",
        "  return -f1"
      ],
      "execution_count": 2,
      "outputs": []
    },
    {
      "cell_type": "markdown",
      "metadata": {
        "id": "IcYSGM85Uzou"
      },
      "source": [
        "**Setup and Initialize Variables**"
      ]
    },
    {
      "cell_type": "code",
      "metadata": {
        "id": "ha4It8BUUzvG"
      },
      "source": [
        "# Initialize global params dictionary.\n",
        "params = solver.initialize_params(wavelengths = [632.0],\n",
        "                      thetas = [0.0],\n",
        "                      phis = [0.0],\n",
        "                      pte = [1.0],\n",
        "                      ptm = [0.0],\n",
        "                      pixelsX = 31,\n",
        "                      pixelsY = 31)\n",
        "params['erd'] = 6.76 # Grating layer permittivity.\n",
        "params['ers'] = 2.25 # Subtrate layer permittivity.\n",
        "params['PQ'] = [5, 5] # Fourier Harmonics.\n",
        "params['Nx'] = 128\n",
        "params['Ny'] = params['Nx']\n",
        "params['upsample'] = 11\n",
        "params['f'] = 1.0 * params['Lx'] * params['pixelsX']\n",
        "\n",
        "# Define the free-space propagator and input field distribution for the metasurface.\n",
        "params['propagator'] = solver.make_propagator(params, params['f'])\n",
        "params['input'] = solver.define_input_fields(params)\n",
        "\n",
        "# Define duty cycles for unit cells based on 4 coupled elliptical nanoposts.\n",
        "var_shape = (1, params['pixelsX'], params['pixelsY'], 4)\n",
        "r_x_initial = 0.175 * np.ones(shape = var_shape)\n",
        "r_y_initial = r_x_initial\n",
        "r_x_var = tf.Variable(r_x_initial, dtype = tf.float32)\n",
        "r_y_var = tf.Variable(r_y_initial, dtype = tf.float32)"
      ],
      "execution_count": 3,
      "outputs": []
    },
    {
      "cell_type": "markdown",
      "metadata": {
        "id": "FtwT36NEUz1a"
      },
      "source": [
        "**Optimize**"
      ]
    },
    {
      "cell_type": "code",
      "metadata": {
        "id": "24klN1XRUz7s",
        "outputId": "212658f6-0c8a-4da0-f04b-d447204cdfb4",
        "colab": {
          "base_uri": "https://localhost:8080/"
        }
      },
      "source": [
        "# Number of optimization iterations.\n",
        "N = 500\n",
        "\n",
        "# Define an optimizer and data to be stored.\n",
        "opt = tf.keras.optimizers.Adam(learning_rate = 2E-4)\n",
        "loss = np.zeros(N + 1)\n",
        "\n",
        "# Compute initial loss and duty cycle.\n",
        "loss[0] = focal_spot().numpy()\n",
        "print('Loss: ' + str(loss[0]))\n",
        "print('\\nOptimizing...')\n",
        "\n",
        "# Optimize.\n",
        "for i in range(N):\n",
        "  opt.minimize(focal_spot, var_list = [r_x_var, r_y_var])\n",
        "  loss[i + 1] = focal_spot().numpy()\n",
        "\n",
        "print('Loss: ' + str(loss[N]))"
      ],
      "execution_count": 4,
      "outputs": [
        {
          "output_type": "stream",
          "text": [
            "Loss: -1.0056782960891724\n",
            "\n",
            "Optimizing...\n",
            "Loss: -16.064537048339844\n"
          ],
          "name": "stdout"
        }
      ]
    },
    {
      "cell_type": "markdown",
      "metadata": {
        "id": "hX6jzUfcU0CY"
      },
      "source": [
        "**Display Learning Curve**"
      ]
    },
    {
      "cell_type": "code",
      "metadata": {
        "id": "8Sz1QpoxU0Je",
        "outputId": "ea785734-74ce-47f9-fed5-c346eb3bf546",
        "colab": {
          "base_uri": "https://localhost:8080/",
          "height": 278
        }
      },
      "source": [
        "plt.plot(loss)\n",
        "plt.xlabel('Iterations')\n",
        "plt.ylabel('Loss')\n",
        "plt.xlim(0, N)\n",
        "plt.show()"
      ],
      "execution_count": 5,
      "outputs": [
        {
          "output_type": "display_data",
          "data": {
            "image/png": "[encoded data removed]",
            "text/plain": [
              "<Figure size 432x288 with 1 Axes>"
            ]
          },
          "metadata": {
            "tags": [],
            "needs_background": "light"
          }
        }
      ]
    },
    {
      "cell_type": "markdown",
      "metadata": {
        "id": "Sqkosi67VvNc"
      },
      "source": [
        "**Calculate the Focal Plane Intensity of the Optimized Structure**"
      ]
    },
    {
      "cell_type": "code",
      "metadata": {
        "id": "HhBoAefiVvVe",
        "outputId": "417a8ea5-fcf4-42d3-8ddf-b05465345826",
        "colab": {
          "base_uri": "https://localhost:8080/",
          "height": 286
        }
      },
      "source": [
        "ER_t, UR_t = solver.generate_coupled_cylindrical_resonators(r_x_var, r_y_var, params)\n",
        "outputs = solver.simulate(ER_t, UR_t, params)\n",
        "field = outputs['ty'][:, :, :, np.prod(params['PQ']) // 2, 0]\n",
        "focal_plane = solver.propagate(params['input'] * field, params['propagator'], params['upsample'])\n",
        "plt.imshow(tf.abs(focal_plane[0, :, :]) ** 2)\n",
        "plt.colorbar()"
      ],
      "execution_count": 6,
      "outputs": [
        {
          "output_type": "execute_result",
          "data": {
            "text/plain": [
              "<matplotlib.colorbar.Colorbar at 0x7f5510345588>"
            ]
          },
          "metadata": {
            "tags": []
          },
          "execution_count": 6
        },
        {
          "output_type": "display_data",
          "data": {
            "image/png": "[encoded data removed]",
            "text/plain": [
              "<Figure size 432x288 with 2 Axes>"
            ]
          },
          "metadata": {
            "tags": [],
            "needs_background": "light"
          }
        }
      ]
    },
    {
      "cell_type": "code",
      "metadata": {
        "id": "v9stKGmQWVR4"
      },
      "source": [
        ""
      ],
      "execution_count": 6,
      "outputs": []
    }
  ]
}